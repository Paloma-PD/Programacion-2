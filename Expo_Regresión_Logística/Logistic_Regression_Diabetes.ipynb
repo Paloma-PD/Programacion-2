{
 "cells": [
  {
   "cell_type": "markdown",
   "metadata": {},
   "source": [
    "### Regresión logística\n",
    "\n",
    "En el presente script se trabajará con el dataset de _Pima Indians Diabetes_ extraído de [Kaggle](https://www.kaggle.com/datasets/uciml/Pima-indians-diabetes-database). Este conjunto de datos es originalmente del Instituto Nacional de Diabetes y Enfermedades Digestivas y Renales. El objetivo del conjunto de datos es predecir diagnósticamente si un paciente tiene o no diabetes, en función de ciertas mediciones diagnósticas incluidas en el conjunto de datos. En particular, todos los pacientes del dataset son mujeres de al menos 21 años de edad de ascendencia indígena Pima.\n",
    "\n",
    "Las variables presentes son:\n",
    "* Cantidad de embarazos - Pregnancies\n",
    "* Concentración de glucosa - Glucose\n",
    "* Presión arterial - BloodPressure\n",
    "* Grosor de la piel - SkinThickness\n",
    "* Nivel de insulina - Insulin\n",
    "* Índice de masa corporal - BMI\n",
    "* Medida del historial de diabetes en la familia - DiabetesPedigreeFunction\n",
    "* Edad en años - Age\n",
    "* Variable objetivo - Outcome, donde 0 implica no diabetes y 1 diabetes"
   ]
  },
  {
   "cell_type": "code",
   "execution_count": 1,
   "metadata": {},
   "outputs": [],
   "source": [
    "# Comenzamos importando las librerías a utilizar\n",
    "import numpy as np\n",
    "import pandas as pd\n",
    "import seaborn as sns\n",
    "import matplotlib.pyplot as plt\n",
    "\n",
    "from sklearn.model_selection import train_test_split\n",
    "from sklearn.preprocessing import StandardScaler\n",
    "from sklearn.metrics import classification_report, confusion_matrix\n"
   ]
  }
 ],
 "metadata": {
  "kernelspec": {
   "display_name": "ProgramacionII",
   "language": "python",
   "name": "python3"
  },
  "language_info": {
   "codemirror_mode": {
    "name": "ipython",
    "version": 3
   },
   "file_extension": ".py",
   "mimetype": "text/x-python",
   "name": "python",
   "nbconvert_exporter": "python",
   "pygments_lexer": "ipython3",
   "version": "3.10.16"
  }
 },
 "nbformat": 4,
 "nbformat_minor": 2
}
