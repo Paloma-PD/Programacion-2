{
 "cells": [
  {
   "cell_type": "markdown",
   "id": "intro-001",
   "metadata": {},
   "source": [
    "# Inferencia Estadística Aplicada a Machine Learning\n",
    "\n",
    "La inferencia estadística se utiliza para extraer conclusiones sobre una población a partir de una muestra. En el contexto de Machine Learning, es fundamental para:\n",
    "\n",
    "- Estimar parámetros poblacionales (por ejemplo, la media).\n",
    "- Calcular intervalos de confianza para dichos parámetros.\n",
    "- Evaluar la precisión de las estimaciones a través del error estándar.\n",
    "- Realizar pruebas de hipótesis para determinar si existen diferencias significativas o efectos en los datos.\n",
    "\n",
    "En este Notebook se presentan los conceptos teóricos, fórmulas, ejemplos prácticos y un caso real aplicado a Machine Learning."
   ]
  },
  {
   "cell_type": "markdown",
   "id": "conceptos-002",
   "metadata": {},
   "source": [
    "## 1. Conceptos Teóricos\n",
    "\n",
    "### a) Intervalo de Confianza (IC)\n",
    "\n",
    "Un **intervalo de confianza** es un rango de valores, calculado a partir de una muestra, que se espera contenga el valor verdadero de un parámetro poblacional con un cierto nivel de confianza (por ejemplo, 95%).\n",
    "\n",
    "La fórmula básica para un intervalo de confianza de la media es:\n",
    "\n",
    "$$ IC = \\bar{x} \\pm t_{\\alpha/2,\\,n-1} \\left(\\frac{s}{\\sqrt{n}}\\right) $$\n",
    "\n",
    "donde:\n",
    "\n",
    "- \\($\\bar{x}$\\) es la media muestral.\n",
    "- \\(s\\) es la desviación estándar muestral.\n",
    "- \\(n\\) es el tamaño de la muestra.\n",
    "- \\($t_{\\alpha/2,\\,n-1}$\\) es el valor crítico de la distribución *t* de Student para un nivel de significancia \\($\\alpha$\\) y \\(n-1\\) grados de libertad.\n",
    "\n",
    "### b) Error Estándar (EE)\n",
    "\n",
    "El **error estándar** es una medida de la variabilidad de la media muestral, y se define como:\n",
    "\n",
    "$$ EE = \\frac{s}{\\sqrt{n}} $$\n",
    "\n",
    "donde:\n",
    "\n",
    "- \\(s\\) es la desviación estándar muestral.\n",
    "- \\(n\\) es el tamaño de la muestra.\n",
    "\n",
    "### c) Prueba de Hipótesis\n",
    "\n",
    "Una **prueba de hipótesis** es un procedimiento para determinar si existe suficiente evidencia en una muestra de datos para inferir que cierta condición es verdadera para la población.\n",
    "\n",
    "Ejemplo: La prueba *t* para una muestra se utiliza para comparar la media muestral con un valor hipotético \\($\\mu_0$\\):\n",
    "\n",
    "$$ t = \\frac{\\bar{x} - \\mu_0}{s/\\sqrt{n}} $$\n",
    "\n",
    "donde:\n",
    "\n",
    "- \\($\\bar{x}$\\) es la media muestral.\n",
    "- \\($\\mu_0$\\) es la media bajo la hipótesis nula.\n",
    "- \\(s\\) es la desviación estándar muestral.\n",
    "- \\(n\\) es el tamaño de la muestra.\n",
    "\n",
    "Se compara el valor \\(t\\) obtenido con un valor crítico de la distribución *t* para decidir si se rechaza la hipótesis nula."
   ]
  },
  {
   "cell_type": "markdown",
   "id": "ejemplos-003",
   "metadata": {},
   "source": [
    "## 2. Ejemplos Prácticos en Python\n",
    "\n",
    "A continuación se presentan tres ejemplos prácticos para cada uno de los conceptos: Intervalo de Confianza, Error Estándar y Prueba de Hipótesis."
   ]
  },
  {
   "cell_type": "markdown",
   "id": "ejemplo-ic-004",
   "metadata": {},
   "source": [
    "### Ejemplo 1: Intervalo de Confianza para la Media\n",
    "\n",
    "Supongamos que tenemos una muestra de datos y queremos estimar la media poblacional con un 95% de confianza.\n",
    "\n",
    "Se utilizará la siguiente fórmula:\n",
    "\n",
    "$$ IC = \\bar{x} \\pm t_{0.025,\\,n-1} \\left(\\frac{s}{\\sqrt{n}}\\right) $$\n",
    "\n",
    "Ejemplo práctico:"
   ]
  },
  {
   "cell_type": "code",
   "execution_count": null,
   "id": "codigo-ic-005",
   "metadata": {},
   "outputs": [
    {
     "name": "stdout",
     "output_type": "stream",
     "text": [
      "Media muestral: 48.12\n",
      "Error Estándar: 1.64\n",
      "Intervalo de Confianza (95%): [44.76, 51.48]\n"
     ]
    }
   ],
   "source": [
    "import numpy as np\n",
    "from scipy import stats\n",
    "\n",
    "# Datos de ejemplo: muestra de 30 observaciones\n",
    "np.random.seed(42)\n",
    "datos = np.random.normal(loc=50, scale=10, size=30)\n",
    "\n",
    "# Cálculo de la media, desviación estándar y tamaño de la muestra\n",
    "media_muestral = np.mean(datos)\n",
    "s = np.std(datos, ddof=1)  # ddof=1 para la desviación estándar muestral\n",
    "n = len(datos)\n",
    "\n",
    "# Valor crítico t para un intervalo del 95% (alpha=0.05)\n",
    "t_crit = stats.t.ppf(1-0.025, df=n-1)\n",
    "                # ppf - Encuentra el valor t crítico dado un percentil q\n",
    "\n",
    "# Error estándar\n",
    "EE = s / np.sqrt(n)\n",
    "\n",
    "# Cálculo del intervalo de confianza\n",
    "IC_lower = media_muestral - t_crit * EE\n",
    "IC_upper = media_muestral + t_crit * EE\n",
    "\n",
    "print(f\"Media muestral: {media_muestral:.2f}\")\n",
    "print(f\"Error Estándar: {EE:.2f}\")\n",
    "print(f\"Intervalo de Confianza (95%): [{IC_lower:.2f}, {IC_upper:.2f}]\")"
   ]
  },
  {
   "cell_type": "markdown",
   "id": "ejemplo-ee-006",
   "metadata": {},
   "source": [
    "### Ejemplo 2: Cálculo del Error Estándar\n",
    "\n",
    "Utilizando los mismos datos del ejemplo anterior, se puede calcular el error estándar de la media.\n",
    "\n",
    "La fórmula es:\n",
    "\n",
    "$$ EE = \\frac{s}{\\sqrt{n}} $$\n",
    "\n",
    "Donde \\(s\\) es la desviación estándar muestral y \\(n\\) es el tamaño de la muestra."
   ]
  },
  {
   "cell_type": "code",
   "execution_count": null,
   "id": "codigo-ee-007",
   "metadata": {},
   "outputs": [
    {
     "name": "stdout",
     "output_type": "stream",
     "text": [
      "Error Estándar calculado: 1.64\n",
      "n = 30 -> EE = 1.70\n",
      "n = 50 -> EE = 1.27\n",
      "n = 100 -> EE = 1.02\n"
     ]
    }
   ],
   "source": [
    "# Utilizando los mismos datos de ejemplo\n",
    "print(f\"Error Estándar calculado: {EE:.2f}\")\n",
    "\n",
    "# Ejemplo adicional: comparar error estándar con diferentes tamaños de muestra\n",
    "for n_samples in [30, 50, 100]:\n",
    "    datos_sample = np.random.normal(loc=50, scale=10, size=n_samples)\n",
    "    s_sample = np.std(datos_sample, ddof=1)\n",
    "    EE_sample = s_sample / np.sqrt(n_samples)\n",
    "    print(f\"n = {n_samples} -> EE = {EE_sample:.2f}\")\n",
    "\n",
    "# Ante varios tamaños de muestra podemos ver que a medida que el tamaño de la muestra crece,\n",
    "# el error estándar disminuye, ie, mejora la precisión de la estimación de la media poblacional."
   ]
  },
  {
   "cell_type": "markdown",
   "id": "ejemplo-hipotesis-008",
   "metadata": {},
   "source": [
    "### Ejemplo 3: Prueba de Hipótesis (Prueba t para una muestra)\n",
    "\n",
    "Supongamos que queremos determinar si la media poblacional es igual a un valor hipotético \\($\\mu_0$ = 52\\). Utilizaremos la prueba t para una muestra, cuya fórmula es:\n",
    "\n",
    "$$ t = \\frac{\\bar{x} - \\mu_0}{s/\\sqrt{n}} $$\n",
    "\n",
    "Donde:\n",
    "\n",
    "- \\($\\bar{x}$\\) es la media muestral.\n",
    "- \\($\\mu_0$\\) es la media bajo la hipótesis nula.\n",
    "- \\(s\\) es la desviación estándar muestral.\n",
    "- \\(n\\) es el tamaño de la muestra.\n",
    "\n",
    "Luego se compara el valor \\(t\\) obtenido con el valor crítico de la distribución *t* para decidir si se rechaza la hipótesis nula."
   ]
  },
  {
   "cell_type": "code",
   "execution_count": null,
   "id": "codigo-hipotesis-009",
   "metadata": {},
   "outputs": [
    {
     "name": "stdout",
     "output_type": "stream",
     "text": [
      "t estadístico: -2.36\n",
      "t ecrítico: 2.05\n",
      "Grados de libertad: 29\n",
      "p-valor: 0.0251\n",
      "Se rechaza la hipótesis nula. La media es significativamente diferente de 52.\n"
     ]
    }
   ],
   "source": [
    "# Hipótesis:\n",
    "# H0: mu = 52 (la media poblacional es 52)\n",
    "# H1: mu != 52 (la media poblacional es diferente de 52)\n",
    "\n",
    "mu_0 = 52\n",
    "t_stat = (media_muestral - mu_0) / EE\n",
    "df = n - 1\n",
    "p_value = 2 * (1 - stats.t.cdf(abs(t_stat), df=df))\n",
    "\n",
    "print(f\"t estadístico: {t_stat:.2f}\")\n",
    "print(f\"t ecrítico: {t_crit:.2f}\")\n",
    "print(f\"Grados de libertad: {df}\")\n",
    "print(f\"p-valor: {p_value:.4f}\")\n",
    "\n",
    "if p_value < 0.05:\n",
    "    print(\"Se rechaza la hipótesis nula. La media es significativamente diferente de 52.\")\n",
    "else:\n",
    "    print(\"No se rechaza la hipótesis nula. No hay evidencia suficiente para decir que la media difiere de 52.\")\n",
    "\n",
    "# También podemos observar que |t_test| > t_crit, por lo que se tiene suficiente evidencia estadística para\n",
    "# rechazar H0"
   ]
  },
  {
   "cell_type": "code",
   "execution_count": null,
   "id": "ba93ff4f",
   "metadata": {},
   "outputs": [
    {
     "data": {
      "image/png": "[encoded data removed]",
      "text/plain": [
       "<Figure size 640x480 with 1 Axes>"
      ]
     },
     "metadata": {},
     "output_type": "display_data"
    }
   ],
   "source": [
    "import matplotlib.pyplot as plt\n",
    "\n",
    "# Generar valores para el eje X\n",
    "x = np.linspace(-4, 4, 1000)\n",
    "\n",
    "# Calcular la función de densidad de probabilidad (PDF)\n",
    "y = stats.t.pdf(x, df)\n",
    "\n",
    "# Graficar distribución t-student\n",
    "plt.plot(x, y, label=f't-Student (df={df})', color='plum')\n",
    "# Agregamos una línea vertical con el t_crit y el t_stat\n",
    "plt.axvline(t_crit, color='magenta', linestyle='--', linewidth=2, label=f't_crit:{t_crit:.2f}')\n",
    "plt.axvline(np.abs(t_stat), color='purple', linewidth=2, label=f't_stat:{t_stat:.2f}')\n",
    "\n",
    "# Agregar título y etiquetas\n",
    "plt.title('Distribución t-Student')\n",
    "plt.xlabel('Valores de X')\n",
    "plt.ylabel('Densidad de probabilidad')\n",
    "\n",
    "# Agregar leyenda\n",
    "plt.legend()\n",
    "\n",
    "# Mostrar la gráfica\n",
    "plt.show()"
   ]
  },
  {
   "cell_type": "markdown",
   "id": "ejemplo-real-010",
   "metadata": {},
   "source": [
    "## 3. Ejemplo Real Aplicado a Machine Learning: Evaluación de Diferencias en el Dataset Iris\n",
    "\n",
    "En este ejemplo se utilizará el dataset **Iris** para evaluar si existe una diferencia significativa en la longitud del pétalo entre dos clases (por ejemplo, clase 0 y clase 1). Esto se realizará mediante:\n",
    "\n",
    "1. Calcular las estadísticas descriptivas (media, desviación estándar) para la característica *petal length (cm)* en ambas clases.\n",
    "2. Calcular el intervalo de confianza para la media de cada grupo.\n",
    "3. Realizar una prueba t de dos muestras para determinar si la diferencia de medias es significativa.\n",
    "\n",
    "¡Comencemos!"
   ]
  },
  {
   "cell_type": "code",
   "execution_count": 11,
   "id": "codigo-real-011",
   "metadata": {},
   "outputs": [
    {
     "name": "stdout",
     "output_type": "stream",
     "text": [
      "Estadísticas para Grupo 0 (target = 0):\n",
      "Media: 1.46, Desviación Estándar: 0.17, n = 50\n",
      "\n",
      "Estadísticas para Grupo 1 (target = 1):\n",
      "Media: 4.26, Desviación Estándar: 0.47, n = 50\n",
      "\n",
      "Intervalo de confianza (95%) para Grupo 0: (1.4126452382875103, 1.51135476171249)\n",
      "Intervalo de confianza (95%) para Grupo 1: (4.126452777905478, 4.393547222094521)\n",
      "\n",
      "Prueba t para comparar las medias de 'petal length (cm)' entre Grupo 0 y Grupo 1:\n",
      "t estadístico: -39.49\n",
      "p-valor: 0.0000\n",
      "Se rechaza la hipótesis nula: existen diferencias significativas en la longitud del pétalo entre los grupos.\n"
     ]
    }
   ],
   "source": [
    "import pandas as pd\n",
    "from sklearn import datasets\n",
    "\n",
    "# Cargar el dataset Iris\n",
    "iris = datasets.load_iris()\n",
    "df_iris = pd.DataFrame(data=iris.data, columns=iris.feature_names)\n",
    "df_iris['target'] = iris.target\n",
    "\n",
    "# Seleccionar las dos clases (por ejemplo, 0 y 1) y la característica 'petal length (cm)'\n",
    "grupo0 = df_iris[df_iris['target'] == 0]['petal length (cm)']\n",
    "grupo1 = df_iris[df_iris['target'] == 1]['petal length (cm)']\n",
    "\n",
    "# Estadísticas descriptivas\n",
    "media0 = grupo0.mean()\n",
    "s0 = grupo0.std(ddof=1)\n",
    "n0 = grupo0.count()\n",
    "\n",
    "media1 = grupo1.mean()\n",
    "s1 = grupo1.std(ddof=1)\n",
    "n1 = grupo1.count()\n",
    "\n",
    "print(\"Estadísticas para Grupo 0 (target = 0):\")\n",
    "print(f\"Media: {media0:.2f}, Desviación Estándar: {s0:.2f}, n = {n0}\")\n",
    "\n",
    "print(\"\\nEstadísticas para Grupo 1 (target = 1):\")\n",
    "print(f\"Media: {media1:.2f}, Desviación Estándar: {s1:.2f}, n = {n1}\")\n",
    "\n",
    "# Intervalo de confianza para cada grupo (95% de confianza)\n",
    "t_crit0 = stats.t.ppf(1-0.025, df=n0-1)\n",
    "EE0 = s0 / np.sqrt(n0)\n",
    "IC0 = (media0 - t_crit0 * EE0, media0 + t_crit0 * EE0)\n",
    "\n",
    "t_crit1 = stats.t.ppf(1-0.025, df=n1-1)\n",
    "EE1 = s1 / np.sqrt(n1)\n",
    "IC1 = (media1 - t_crit1 * EE1, media1 + t_crit1 * EE1)\n",
    "\n",
    "print(\"\\nIntervalo de confianza (95%) para Grupo 0:\", IC0)\n",
    "print(\"Intervalo de confianza (95%) para Grupo 1:\", IC1)\n",
    "\n",
    "# Prueba t de dos muestras (suponiendo varianzas desiguales)\n",
    "t_stat, p_valor = stats.ttest_ind(grupo0, grupo1, equal_var=False)\n",
    "\n",
    "print(\"\\nPrueba t para comparar las medias de 'petal length (cm)' entre Grupo 0 y Grupo 1:\")\n",
    "print(f\"t estadístico: {t_stat:.2f}\")\n",
    "print(f\"p-valor: {p_valor:.4f}\")\n",
    "\n",
    "if p_valor < 0.05:\n",
    "    print(\"Se rechaza la hipótesis nula: existen diferencias significativas en la longitud del pétalo entre los grupos.\")\n",
    "else:\n",
    "    print(\"No se rechaza la hipótesis nula: no se observan diferencias significativas en la longitud del pétalo entre los grupos.\")"
   ]
  },
  {
   "cell_type": "code",
   "execution_count": 12,
   "id": "a532b65c",
   "metadata": {},
   "outputs": [
    {
     "name": "stdout",
     "output_type": "stream",
     "text": [
      "Estadísticas para Grupo 0 (target = 0):\n",
      "Media: 5.01, Desviación Estándar: 0.35, n = 50\n",
      "\n",
      "Estadísticas para Grupo 1 (target = 1):\n",
      "Media: 5.94, Desviación Estándar: 0.52, n = 50\n",
      "\n",
      "Intervalo de confianza (95%) para Grupo 0: (4.905823539299264, 5.106176460700737)\n",
      "Intervalo de confianza (95%) para Grupo 1: (5.789305783106826, 6.082694216893174)\n",
      "\n",
      "Prueba t para comparar las medias de 'sepal length (cm)' entre Grupo 0 y Grupo 1:\n",
      "t estadístico: -10.52\n",
      "p-valor: 0.0000\n",
      "Se rechaza la hipótesis nula: existen diferencias significativas en la longitud del pétalo entre los grupos.\n"
     ]
    }
   ],
   "source": [
    "# Replicamos para sepal length\n",
    "# Seleccionar las dos clases (por ejemplo, 0 y 1) y la característica 'sepal length (cm)'\n",
    "grupo0s = df_iris[df_iris['target'] == 0]['sepal length (cm)']\n",
    "grupo1s = df_iris[df_iris['target'] == 1]['sepal length (cm)']\n",
    "\n",
    "# Estadísticas descriptivas\n",
    "media0s = grupo0s.mean()\n",
    "s0s = grupo0s.std(ddof=1)\n",
    "n0s = grupo0s.count()\n",
    "\n",
    "media1s = grupo1s.mean()\n",
    "s1s = grupo1s.std(ddof=1)\n",
    "n1s = grupo1s.count()\n",
    "\n",
    "print(\"Estadísticas para Grupo 0 (target = 0):\")\n",
    "print(f\"Media: {media0s:.2f}, Desviación Estándar: {s0s:.2f}, n = {n0s}\")\n",
    "\n",
    "print(\"\\nEstadísticas para Grupo 1 (target = 1):\")\n",
    "print(f\"Media: {media1s:.2f}, Desviación Estándar: {s1s:.2f}, n = {n1s}\")\n",
    "\n",
    "# Intervalo de confianza para cada grupo (95% de confianza)\n",
    "t_crit0_s = stats.t.ppf(1-0.025, df=n0s-1)\n",
    "EE0_s = s0s / np.sqrt(n0s)\n",
    "IC0_s = (media0s - t_crit0_s * EE0_s, media0s + t_crit0_s * EE0_s)\n",
    "\n",
    "t_crit1_s = stats.t.ppf(1-0.025, df=n1s-1)\n",
    "EE1_s = s1s / np.sqrt(n1s)\n",
    "IC1_s = (media1s - t_crit1_s * EE1_s, media1s + t_crit1_s * EE1_s)\n",
    "\n",
    "print(\"\\nIntervalo de confianza (95%) para Grupo 0:\", IC0_s)\n",
    "print(\"Intervalo de confianza (95%) para Grupo 1:\", IC1_s)\n",
    "\n",
    "# Prueba t de dos muestras (suponiendo varianzas desiguales)\n",
    "t_stat_s, p_valor_s = stats.ttest_ind(grupo0s, grupo1s, equal_var=False)\n",
    "\n",
    "print(\"\\nPrueba t para comparar las medias de 'sepal length (cm)' entre Grupo 0 y Grupo 1:\")\n",
    "print(f\"t estadístico: {t_stat_s:.2f}\")\n",
    "print(f\"p-valor: {p_valor_s:.4f}\")\n",
    "\n",
    "if p_valor_s < 0.05:\n",
    "    print(\"Se rechaza la hipótesis nula: existen diferencias significativas en la longitud del pétalo entre los grupos.\")\n",
    "else:\n",
    "    print(\"No se rechaza la hipótesis nula: no se observan diferencias significativas en la longitud del pétalo entre los grupos.\")"
   ]
  },
  {
   "cell_type": "markdown",
   "id": "conclusion-012",
   "metadata": {},
   "source": [
    "## Conclusión\n",
    "\n",
    "En este Notebook se han explorado conceptos fundamentales de **inferencias estadísticas** aplicados a Machine Learning, incluyendo:\n",
    "\n",
    "- **Intervalos de Confianza**: para estimar la media poblacional con un nivel de confianza (por ejemplo, 95%).\n",
    "- **Error Estándar**: que mide la precisión de la media muestral.\n",
    "- **Pruebas de Hipótesis**: para determinar si una diferencia observada en las medias es estadísticamente significativa.\n",
    "\n",
    "El ejemplo real aplicado al dataset *Iris* ilustra cómo se pueden comparar dos grupos (clases) para determinar si existe una diferencia significativa en la longitud del pétalo. Estos métodos son esenciales para tomar decisiones informadas en el preprocesamiento y análisis de datos en proyectos de Machine Learning.\n",
    "\n",
    "¡Experimenta con estos métodos en otros conjuntos de datos para profundizar en el análisis estadístico y mejorar tus modelos predictivos!"
   ]
  }
 ],
 "metadata": {
  "kernelspec": {
   "display_name": "ProgramacionII",
   "language": "python",
   "name": "python3"
  },
  "language_info": {
   "codemirror_mode": {
    "name": "ipython",
    "version": 3
   },
   "file_extension": ".py",
   "mimetype": "text/x-python",
   "name": "python",
   "nbconvert_exporter": "python",
   "pygments_lexer": "ipython3",
   "version": "3.10.16"
  }
 },
 "nbformat": 4,
 "nbformat_minor": 5
}
